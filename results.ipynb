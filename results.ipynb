{
 "cells": [
  {
   "cell_type": "code",
   "execution_count": 34,
   "metadata": {},
   "outputs": [],
   "source": [
    "start = \"2023-03-11\"\n",
    "end = \"2023-04-09\"\n",
    "\n",
    "year = 2024\n",
    "filename = \"form.csv\""
   ]
  },
  {
   "cell_type": "code",
   "execution_count": 24,
   "metadata": {},
   "outputs": [],
   "source": [
    "import pandas as pd\n",
    "import json\n",
    "import datetime\n",
    "import requests\n",
    "import os"
   ]
  },
  {
   "cell_type": "code",
   "execution_count": 25,
   "metadata": {},
   "outputs": [],
   "source": [
    "df = pd.read_csv(filename)\n",
    "df = df[[\"Registration Number\", \"LeetCode\"]]\n",
    "df[\"Registration Number\"] = df[\"Registration Number\"].apply(lambda x: x.lower().strip())\n",
    "df[\"Profile\"] = df[\"LeetCode\"].apply(lambda x: x.strip().split(\"https://leetcode.com/\")[1].split(\"/\")[0])\n",
    "\n",
    "df.to_json(\"form.json\", orient=\"table\", index=False)"
   ]
  },
  {
   "cell_type": "code",
   "execution_count": 26,
   "metadata": {},
   "outputs": [
    {
     "name": "stdout",
     "output_type": "stream",
     "text": [
      "{'response': 'ok'}\n"
     ]
    }
   ],
   "source": [
    "with open('./form.json', 'r') as f:\n",
    "    read_data = json.load(f)\n",
    "\n",
    "advanced_users = read_data['data']\n",
    "\n",
    "query = \"\"\"\n",
    "query userProfileCalendar($username: String!, $year: Int) {  \n",
    "    matchedUser(username: $username) {\n",
    "            userCalendar(year: $year) {\n",
    "                        activeYears\n",
    "                        streak\n",
    "                        totalActiveDays  \n",
    "                        dccBadges {\n",
    "                            timestamp       \n",
    "                            badge {\n",
    "                                name\n",
    "                                icon\n",
    "                            }\n",
    "                        }      \n",
    "                    submissionCalendar\n",
    "                    }\n",
    "                    submitStatsGlobal {\n",
    "                        totalSubmissionNum {\n",
    "                            difficulty\n",
    "                            count\n",
    "                        }\n",
    "                        acSubmissionNum {\n",
    "                            difficulty\n",
    "                            count\n",
    "                        }\n",
    "                        }\n",
    "                }\n",
    "            }\n",
    "\"\"\"\n",
    "\n",
    "headers = {\n",
    "    \"Content-Type\": \"application/json\",\n",
    "    \"Referer\": \"https://leetcode.com\",\n",
    "}\n",
    "\n",
    "for user in advanced_users:\n",
    "    try:\n",
    "        response = requests.post(\n",
    "            \"https://leetcode.com/graphql\",\n",
    "            headers=headers,\n",
    "            json={\n",
    "                \"query\": query,\n",
    "                \"variables\": {\"username\": user[\"Profile\"], \"year\": year},\n",
    "            },\n",
    "        )\n",
    "        res = response.json()\n",
    "        res[\"registration_number\"] = user[\"Registration Number\"]\n",
    "        res[\"username\"] = user[\"Profile\"]\n",
    "\n",
    "        with open(\"./results.json\", \"a\") as f:\n",
    "            f.write(json.dumps(res) + ',')\n",
    "    except Exception as e:\n",
    "        print(str(e))\n",
    "\n",
    "print({\"response\": \"ok\"})"
   ]
  },
  {
   "cell_type": "code",
   "execution_count": 27,
   "metadata": {},
   "outputs": [],
   "source": [
    "# Read the contents of the file\n",
    "with open('results.json', 'r') as f:\n",
    "    data = f.read()\n",
    "\n",
    "# Remove the last character\n",
    "data = data[:-1]\n",
    "\n",
    "# Add '[' at the beginning and ']' at the end\n",
    "data = '[' + data + ']'\n",
    "\n",
    "# Write the modified contents back to the file\n",
    "with open('results.json', 'w') as f:\n",
    "    f.write(data)\n"
   ]
  },
  {
   "cell_type": "code",
   "execution_count": 28,
   "metadata": {},
   "outputs": [],
   "source": [
    "# Load the JSON file\n",
    "with open('results.json') as f:\n",
    "    data = json.load(f)"
   ]
  },
  {
   "cell_type": "code",
   "execution_count": 29,
   "metadata": {},
   "outputs": [],
   "source": [
    "results = []\n",
    "for item in data:\n",
    "    row = {}\n",
    "\n",
    "    userCalendar = item[\"data\"][\"matchedUser\"][\"userCalendar\"]\n",
    "    submissionStats = item[\"data\"][\"matchedUser\"][\"submitStatsGlobal\"]\n",
    "\n",
    "    for total in submissionStats[\"totalSubmissionNum\"]:\n",
    "        row[\"total\" + total[\"difficulty\"]] = total[\"count\"]\n",
    "\n",
    "    for total in submissionStats[\"acSubmissionNum\"]:\n",
    "        row[\"accepted\" + total[\"difficulty\"]] = total[\"count\"]\n",
    "\n",
    "    row.update({ \"active_years\": userCalendar[\"activeYears\"], \"streak\": userCalendar[\"streak\"], \"total_active_days\": userCalendar[\"totalActiveDays\"], \"submission_calendar\": userCalendar[\"submissionCalendar\"], \"username\": item[\"username\"], \"registration_number\": item[\"registration_number\"] })\n",
    "\n",
    "    results.append(row)"
   ]
  },
  {
   "cell_type": "code",
   "execution_count": 30,
   "metadata": {},
   "outputs": [],
   "source": [
    "def epoch_to_human(epoch):\n",
    "    return datetime.datetime.fromtimestamp(epoch).strftime('%Y-%m-%d')\n",
    "\n",
    "def submissionsInTime(submission_calendar):\n",
    "    data = json.loads(submission_calendar)\n",
    "    sum = 0\n",
    "    for key, value in data.items():\n",
    "        date = epoch_to_human(int(key))\n",
    "        if date >= start and date <= end:\n",
    "            sum += value\n",
    "\n",
    "    return sum"
   ]
  },
  {
   "cell_type": "code",
   "execution_count": 31,
   "metadata": {},
   "outputs": [],
   "source": [
    "df = pd.DataFrame(results)\n",
    "df[\"submissionsInTime\"] = df[\"submission_calendar\"].apply(submissionsInTime)"
   ]
  },
  {
   "cell_type": "code",
   "execution_count": 32,
   "metadata": {},
   "outputs": [],
   "source": [
    "result = df[[\"totalAll\", \"acceptedAll\", \"submissionsInTime\", \"username\", \"registration_number\", \"streak\", \"total_active_days\", \"totalHard\", \"totalEasy\", \"acceptedHard\", \"acceptedEasy\"]].sort_values(by=\"submissionsInTime\", ascending=False).reset_index(drop=True)\n",
    "\n",
    "result.to_csv(\"result.csv\", index=False)"
   ]
  },
  {
   "cell_type": "code",
   "execution_count": 33,
   "metadata": {},
   "outputs": [
    {
     "name": "stdout",
     "output_type": "stream",
     "text": [
      "The file 'results.json' has been deleted.\n",
      "The file 'form.json' has been deleted.\n"
     ]
    }
   ],
   "source": [
    "# Specify the file path\n",
    "file_path = ['results.json', 'form.json']\n",
    "\n",
    "for file in file_path:\n",
    "    # Check if the file exists\n",
    "    if os.path.exists(file):\n",
    "        # Delete the file\n",
    "        os.remove(file)\n",
    "        print(f\"The file '{file}' has been deleted.\")\n",
    "    else:\n",
    "        print(f\"The file '{file}' does not exist.\")\n"
   ]
  }
 ],
 "metadata": {
  "kernelspec": {
   "display_name": "Python 3",
   "language": "python",
   "name": "python3"
  },
  "language_info": {
   "codemirror_mode": {
    "name": "ipython",
    "version": 3
   },
   "file_extension": ".py",
   "mimetype": "text/x-python",
   "name": "python",
   "nbconvert_exporter": "python",
   "pygments_lexer": "ipython3",
   "version": "3.11.9"
  }
 },
 "nbformat": 4,
 "nbformat_minor": 2
}
